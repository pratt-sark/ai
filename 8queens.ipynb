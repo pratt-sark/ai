{
 "cells": [
  {
   "attachments": {},
   "cell_type": "markdown",
   "metadata": {},
   "source": [
    "##### We consider the 8-queens problem here. The goal of the 8-queens problem is to place eight queens on a chessboard such that no queen attacks any other. The problem formulation in terms of the state-space is as follows:\n",
    "###### States: Any arrangement of 0-8 queens on the board is a state.\n",
    "###### Initial State: No queens on the board.\n",
    "###### Actions: Add a queen to any empty square.\n",
    "###### Transition Model: Returns the board with a queen added to the specified square. \n",
    "###### Goal test: 8 queens are on the board, none attacked.\n"
   ]
  },
  {
   "attachments": {},
   "cell_type": "markdown",
   "metadata": {},
   "source": [
    "Write a program to:\n",
    "###### 1. Solve the problem starting from the initial state and print the solution chessboard. \n",
    "###### 2. Print the number of solutions to the problem.\n",
    "###### 3. Print the number of non-attacking states."
   ]
  },
  {
   "cell_type": "code",
   "execution_count": 21,
   "metadata": {},
   "outputs": [],
   "source": [
    "import numpy as np\n",
    "import random\n",
    "import time"
   ]
  },
  {
   "cell_type": "code",
   "execution_count": 22,
   "metadata": {},
   "outputs": [],
   "source": [
    "def print_board(board):\n",
    "    print('-----------------')\n",
    "    for i in range(8):\n",
    "        print('|', end='')\n",
    "        for j in range(8):\n",
    "            if board[i][j] == 1:\n",
    "                print('Q|', end='')\n",
    "            else:\n",
    "                print(' |', end='')\n",
    "        print(' ')\n",
    "        print('-----------------')"
   ]
  },
  {
   "cell_type": "code",
   "execution_count": 23,
   "metadata": {},
   "outputs": [],
   "source": [
    "def is_attacked(board, row, col):\n",
    "    for i in range(8):\n",
    "        if board[row][i] == 1 or board[i][col] == 1:\n",
    "            return True\n",
    "    for i in range(8):\n",
    "        for j in range(8):\n",
    "            if (i + j == row + col) or (i - j == row - col):\n",
    "                if board[i][j] == 1:\n",
    "                    return True\n",
    "    return False"
   ]
  },
  {
   "cell_type": "code",
   "execution_count": 24,
   "metadata": {},
   "outputs": [],
   "source": [
    "def solve(board, row):\n",
    "    if row == 8:\n",
    "        return True\n",
    "    for i in range(8):\n",
    "        if not is_attacked(board, row, i):\n",
    "            board[row][i] = 1\n",
    "            if solve(board, row + 1):\n",
    "                return True\n",
    "            board[row][i] = 0\n",
    "    return False"
   ]
  },
  {
   "cell_type": "code",
   "execution_count": 25,
   "metadata": {},
   "outputs": [],
   "source": [
    "def solve_n_queens():\n",
    "    board = np.zeros((8, 8), dtype=int)\n",
    "    if solve(board, 0):\n",
    "        print_board(board)\n",
    "    else:\n",
    "        print(\"No solution\")"
   ]
  },
  {
   "cell_type": "code",
   "execution_count": 26,
   "metadata": {},
   "outputs": [],
   "source": [
    "def count_solutions(board, row):\n",
    "    if row == 8:\n",
    "        return 1\n",
    "    count = 0\n",
    "    for i in range(8):\n",
    "        if not is_attacked(board, row, i):\n",
    "            board[row][i] = 1\n",
    "            count += count_solutions(board, row + 1)\n",
    "            board[row][i] = 0\n",
    "    return count"
   ]
  },
  {
   "cell_type": "code",
   "execution_count": 27,
   "metadata": {},
   "outputs": [],
   "source": [
    "def count_non_attacking_states():\n",
    "    board = np.zeros((8, 8), dtype=int)\n",
    "    count = count_solutions(board, 0)\n",
    "    print(count)"
   ]
  },
  {
   "cell_type": "code",
   "execution_count": 28,
   "metadata": {},
   "outputs": [],
   "source": [
    "def main():\n",
    "    solve_n_queens()\n",
    "    count_non_attacking_states()"
   ]
  },
  {
   "cell_type": "code",
   "execution_count": 29,
   "metadata": {},
   "outputs": [
    {
     "name": "stdout",
     "output_type": "stream",
     "text": [
      "-----------------\n",
      "|Q| | | | | | | | \n",
      "-----------------\n",
      "| | | | |Q| | | | \n",
      "-----------------\n",
      "| | | | | | | |Q| \n",
      "-----------------\n",
      "| | | | | |Q| | | \n",
      "-----------------\n",
      "| | |Q| | | | | | \n",
      "-----------------\n",
      "| | | | | | |Q| | \n",
      "-----------------\n",
      "| |Q| | | | | | | \n",
      "-----------------\n",
      "| | | |Q| | | | | \n",
      "-----------------\n",
      "92\n"
     ]
    }
   ],
   "source": [
    "main()"
   ]
  }
 ],
 "metadata": {
  "kernelspec": {
   "display_name": "Python 3",
   "language": "python",
   "name": "python3"
  },
  "language_info": {
   "codemirror_mode": {
    "name": "ipython",
    "version": 3
   },
   "file_extension": ".py",
   "mimetype": "text/x-python",
   "name": "python",
   "nbconvert_exporter": "python",
   "pygments_lexer": "ipython3",
   "version": "3.10.1 (tags/v3.10.1:2cd268a, Dec  6 2021, 19:10:37) [MSC v.1929 64 bit (AMD64)]"
  },
  "orig_nbformat": 4,
  "vscode": {
   "interpreter": {
    "hash": "369f2c481f4da34e4445cda3fffd2e751bd1c4d706f27375911949ba6bb62e1c"
   }
  }
 },
 "nbformat": 4,
 "nbformat_minor": 2
}
