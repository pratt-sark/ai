{
  "nbformat": 4,
  "nbformat_minor": 0,
  "metadata": {
    "colab": {
      "provenance": []
    },
    "kernelspec": {
      "name": "python3",
      "display_name": "Python 3"
    },
    "language_info": {
      "name": "python"
    }
  },
  "cells": [
    {
      "cell_type": "markdown",
      "source": [
        "#### We consider the 8-queens problem here. The goal of the 8-queens problem is to place eight queens on a chessboard such that no queen attacks any other. The problem formulation in terms of the state-space is as follows:\n",
        "1. ***States***: Any arrangement of 0-8 queens on the board is a state.\n",
        "2. ***Initial State***: No queens on the board.\n",
        "3. ***Actions***: Add a queen to any empty square.\n",
        "4. ***Transition Model***: Returns the board with a queen added to the specified square. \n",
        "5. ***Goal test***: 8 queens are on the board, none attacked.\n",
        "\n",
        "#### Write a program to:\n",
        "1. Solve the problem starting from the initial state and print the solution chessboard. \n",
        "2. Print the number of solutions to the problem.\n",
        "3. Print the number of non-attacking states.\n"
      ],
      "metadata": {
        "id": "FQndL9z8r7iZ"
      }
    },
    {
      "cell_type": "code",
      "execution_count": 240,
      "metadata": {
        "id": "1-9QKFkl7yR1"
      },
      "outputs": [],
      "source": [
        "import numpy as np\n",
        "import random"
      ]
    },
    {
      "cell_type": "markdown",
      "source": [
        "Initializing Global Variables"
      ],
      "metadata": {
        "id": "rWVemJwga0qA"
      }
    },
    {
      "cell_type": "code",
      "source": [
        "# closed is a single solution to the 8 Queens problem when of length 8 (list of (i,j) tuples)\n",
        "# open holds the successor states of all states currently in closed\n",
        "open = []\n",
        "closed = []\n",
        "# allPaths is a list of all possible solutions to the 8 Queens problem\n",
        "allPaths = []\n",
        "# number of non-attacking states\n",
        "non_attacking_states = 1 # initially 1, because an empty board is a non-attacking state"
      ],
      "metadata": {
        "id": "nh0twZLR92yT"
      },
      "execution_count": 241,
      "outputs": []
    },
    {
      "cell_type": "markdown",
      "source": [
        "A function to print a solution 'p' in chess-board format"
      ],
      "metadata": {
        "id": "cOZKuLPfa6kD"
      }
    },
    {
      "cell_type": "code",
      "source": [
        "def print_board(p):\n",
        "    print('-----------------')\n",
        "    for i in range(8):\n",
        "      print('|', end='')\n",
        "      x = p[i] # i-th tuple in 'p'\n",
        "      for j in range(8):\n",
        "        # if (i,j) is in 'p', print 'Q'\n",
        "        if x[0] == i and x[1]==j : \n",
        "            print('Q|', end='') # Q represents a Queen \n",
        "        else:\n",
        "            print(' |', end='')\n",
        "      print(' ')\n",
        "      print('-----------------')"
      ],
      "metadata": {
        "id": "usrZRoUQ86w2"
      },
      "execution_count": 242,
      "outputs": []
    },
    {
      "cell_type": "markdown",
      "source": [
        "A function to check whether placing a queen in (i,j)th position in the board results in it getting attacked by other queens"
      ],
      "metadata": {
        "id": "ylNnB2PZbFrx"
      }
    },
    {
      "cell_type": "code",
      "source": [
        "def isAttacked(i,j):\n",
        "  for p in closed:\n",
        "    # safety check for placing Queen in (i,j)\n",
        "    if p[0] == i or p[1] == j or (p[0]+p[1]) == (i+j) or (p[0]-p[1]) == (i-j): \n",
        "      return True\n",
        "  return False"
      ],
      "metadata": {
        "id": "An4l15pw9dRw"
      },
      "execution_count": 243,
      "outputs": []
    },
    {
      "cell_type": "markdown",
      "source": [
        "A function to generate all successors of a given state (i,j)"
      ],
      "metadata": {
        "id": "Z7RJ6O0tbc7E"
      }
    },
    {
      "cell_type": "code",
      "source": [
        "def gen_successor(node):\n",
        "  successorList =[]\n",
        "  if(node[0]!=7):\n",
        "    for i in range(8):\n",
        "      successorList.append((node[0]+1,i))\n",
        "  return successorList"
      ],
      "metadata": {
        "id": "7OV9bSft96ne"
      },
      "execution_count": 244,
      "outputs": []
    },
    {
      "cell_type": "markdown",
      "source": [
        "A function to find all possible solutions to the 8 Queens problem"
      ],
      "metadata": {
        "id": "xO-AbkMxQ8cP"
      }
    },
    {
      "cell_type": "code",
      "source": [
        "def Tree_Search():\n",
        "  global open,closed,allPaths,non_attacking_states\n",
        "  \n",
        "  for i in range(8): # traverses all elements of first row, starting node being (0,0)\n",
        "    open.append((0,i)) # add the i-th column element of the first row\n",
        "\n",
        "    while(len(open)!=0): # while open is not empty\n",
        "      curr_node = open.pop(0) # current node is initialised to a node popped from open\n",
        "      if isAttacked(curr_node[0],curr_node[1]) == False: # if a Queen can be placed in (curr_node.row,curr_node.j)\n",
        "        non_attacking_states += 1 # increment the number of non-attacking states\n",
        "        closed.append(curr_node) # add current node to closed\n",
        "        open = gen_successor(curr_node)+open # generate successors of current node and append to the front of open\n",
        "        if(len(closed) == 8): # if a solution is found\n",
        "          allPaths.append(closed.copy()) # append the current solutoions to allPaths\n",
        "          closed.pop() # pop the last element in closed \n",
        "        \n",
        "      while(len(closed)!=0): # while closed is not empty\n",
        "        count = 0 # counts the number of successors of the last element of closed that are not in open\n",
        "        for i in gen_successor(closed[-1]):\n",
        "          if i not in open: # if the successor 'i' of the last element of closed doesn't exist in open\n",
        "            count += 1 # increment the value of count\n",
        "        if(count == 8): # if count becomes 8, there are no successors of the last element of closed in open\n",
        "          closed.pop() # pop the last element in closed \n",
        "        else: # if some successor of the last element of closed exists in open\n",
        "          break # break the loop\n",
        "  "
      ],
      "metadata": {
        "id": "XJONUHyk9RFr"
      },
      "execution_count": 245,
      "outputs": []
    },
    {
      "cell_type": "markdown",
      "source": [
        "A main function where execution starts"
      ],
      "metadata": {
        "id": "ZvvvEAXIbmha"
      }
    },
    {
      "cell_type": "code",
      "source": [
        "def main():\n",
        "  global non_attacking_states\n",
        "  Tree_Search() # to find all possible solutions\n",
        "  choice = random.choice(allPaths) # make a random selection to display a solution chess-board\n",
        "  print('A possible solution --> ',choice)\n",
        "  print_board(choice) # print the chess-board with the selected solution\n",
        "  print('Number of possible solutions : ',len(allPaths))\n",
        "  print('Number of non-attacking states : ',non_attacking_states)"
      ],
      "metadata": {
        "id": "F50ptB6RBTcZ"
      },
      "execution_count": 246,
      "outputs": []
    },
    {
      "cell_type": "markdown",
      "source": [
        "Calling the main function"
      ],
      "metadata": {
        "id": "P3WCo32VbrR-"
      }
    },
    {
      "cell_type": "code",
      "source": [
        "if __name__ == \"__main__\":\n",
        "    main()"
      ],
      "metadata": {
        "colab": {
          "base_uri": "https://localhost:8080/"
        },
        "id": "x_0NoZMMVuSs",
        "outputId": "200a2d31-4631-47a6-d3e8-f0fbf609542b"
      },
      "execution_count": 247,
      "outputs": [
        {
          "output_type": "stream",
          "name": "stdout",
          "text": [
            "A possible solution -->  [(0, 7), (1, 2), (2, 0), (3, 5), (4, 1), (5, 4), (6, 6), (7, 3)]\n",
            "-----------------\n",
            "| | | | | | | |Q| \n",
            "-----------------\n",
            "| | |Q| | | | | | \n",
            "-----------------\n",
            "|Q| | | | | | | | \n",
            "-----------------\n",
            "| | | | | |Q| | | \n",
            "-----------------\n",
            "| |Q| | | | | | | \n",
            "-----------------\n",
            "| | | | |Q| | | | \n",
            "-----------------\n",
            "| | | | | | |Q| | \n",
            "-----------------\n",
            "| | | |Q| | | | | \n",
            "-----------------\n",
            "Number of possible solutions :  92\n",
            "Number of non-attacking states :  2057\n"
          ]
        }
      ]
    }
  ]
}