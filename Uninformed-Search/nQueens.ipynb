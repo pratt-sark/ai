{
  "nbformat": 4,
  "nbformat_minor": 0,
  "metadata": {
    "colab": {
      "provenance": []
    },
    "kernelspec": {
      "name": "python3",
      "display_name": "Python 3"
    },
    "language_info": {
      "name": "python"
    }
  },
  "cells": [
    {
      "cell_type": "markdown",
      "source": [
        "#### We consider the n-queens problem here. The goal of the n-queens problem is to place eight queens on a chessboard such that no queen attacks any other. The problem formulation in terms of the state-space is as follows:\n",
        "1. ***States***: Any arrangement of 0-n queens on the board is a state.\n",
        "2. ***Initial State***: No queens on the board.\n",
        "3. ***Actions***: Add a queen to any empty square.\n",
        "4. ***Transition Model***: Returns the board with a queen added to the specified square. \n",
        "5. ***Goal test***: n queens are on the board, none attacked.\n",
        "\n",
        "#### Write a program to:\n",
        "1. Solve the problem starting from the initial state and print the solution chessboard. \n",
        "2. Print the number of solutions to the problem.\n",
        "3. Print the number of non-attacking states.\n"
      ],
      "metadata": {
        "id": "FQndL9z8r7iZ"
      }
    },
    {
      "cell_type": "code",
      "execution_count": 79,
      "metadata": {
        "id": "1-9QKFkl7yR1"
      },
      "outputs": [],
      "source": [
        "import numpy as np\n",
        "import random"
      ]
    },
    {
      "cell_type": "markdown",
      "source": [
        "Initializing Global Variables"
      ],
      "metadata": {
        "id": "rWVemJwga0qA"
      }
    },
    {
      "cell_type": "code",
      "source": [
        "# path is a single solution to the n Queens problem (list of (i,j) tuples)\n",
        "path = []\n",
        "# allPaths is a list of all possible solutions to the n Queens problem\n",
        "allPaths = []\n",
        "# number of non-attacking states\n",
        "non_attacking_states = 1 # initially 1, because an empty board is a non-attacking state"
      ],
      "metadata": {
        "id": "nh0twZLR92yT"
      },
      "execution_count": 80,
      "outputs": []
    },
    {
      "cell_type": "code",
      "source": [
        "n = (int)(input('Enter the value of n : '))"
      ],
      "metadata": {
        "colab": {
          "base_uri": "https://localhost:8080/"
        },
        "id": "zlpjemnVkgiW",
        "outputId": "37b015c4-6594-47aa-876b-0485066bf189"
      },
      "execution_count": 81,
      "outputs": [
        {
          "name": "stdout",
          "output_type": "stream",
          "text": [
            "Enter the value of n : 10\n"
          ]
        }
      ]
    },
    {
      "cell_type": "markdown",
      "source": [
        "A function to print a solution 'p' in chess-board format"
      ],
      "metadata": {
        "id": "cOZKuLPfa6kD"
      }
    },
    {
      "cell_type": "code",
      "source": [
        "def print_board(p):\n",
        "    print('-'*(n*2+1))\n",
        "    for i in range(n):\n",
        "      print('|', end='')\n",
        "      x = p[i] # i-th tuple in 'p'\n",
        "      for j in range(n):\n",
        "        # if (i,j) is in 'p', print 'Q'\n",
        "        if x[0] == i and x[1]==j : \n",
        "            print('Q|', end='') # Q represents a Queen \n",
        "        else:\n",
        "            print(' |', end='')\n",
        "      print(' ')\n",
        "      print('-'*(n*2+1))"
      ],
      "metadata": {
        "id": "usrZRoUQ86w2"
      },
      "execution_count": 82,
      "outputs": []
    },
    {
      "cell_type": "markdown",
      "source": [
        "A function to check whether placing a queen in (i,j)th position in the board results in it getting attacked by other queens"
      ],
      "metadata": {
        "id": "ylNnB2PZbFrx"
      }
    },
    {
      "cell_type": "code",
      "source": [
        "def isAttacked(i,j):\n",
        "  for p in path:\n",
        "    # safety check for placing Queen in (i,j)\n",
        "    if p[0] == i or p[1] == j or (p[0]+p[1]) == (i+j) or (p[0]-p[1]) == (i-j): \n",
        "      return True\n",
        "  return False"
      ],
      "metadata": {
        "id": "An4l15pw9dRw"
      },
      "execution_count": 83,
      "outputs": []
    },
    {
      "cell_type": "markdown",
      "source": [
        "A function to find all possible solutions to the n Queens problem"
      ],
      "metadata": {
        "id": "Z7RJ6O0tbc7E"
      }
    },
    {
      "cell_type": "code",
      "source": [
        "def find_solutions():\n",
        "  global non_attacking_states,n\n",
        "  row=1 # initial row value in which a new Queen will be attempted to be placed\n",
        "  colStart = 0 # column value in the current row in which a new Queen will be attempted to be placed\n",
        "  path.append((0,0)) # start finding the solutions by placing a Queen in (0,0)\n",
        "\n",
        "  while(row<n): # while row is in range of the board\n",
        "    count = 0 # 1 if we can place atleast one queen in current row, 0 if we cannot\n",
        "    for j in range(colStart,n):\n",
        "      if isAttacked(row,j)==False: # if a Queen can be placed in (row,j)\n",
        "        path.append((row,j)) # append the tuple (i,j) to current path\n",
        "        count=count+1 # increment count\n",
        "        non_attacking_states+=1 # increment number of non-attacking states\n",
        "        break #break the loop because no more Queens can be placed in the current row\n",
        "    if len(path)==n: # if a solution is found\n",
        "      allPaths.append(path.copy()) # append the current solution to allPaths\n",
        "      count = 0 # make count 0 for backtracking\n",
        "    if count==0 :\n",
        "      if len(path)==0: # after finding all possible solutions, path will be empty\n",
        "        return \n",
        "      x = path.pop() # pop the last tuple, because placing it there yields no solution for next row\n",
        "      # The goal is to find another index in the same row to place a Queen\n",
        "      row=x[0] # make current row the row value of the popped element\n",
        "      colStart = x[1]+1 # make columnStart the next column of the popped element\n",
        "    else: \n",
        "     row=row+1 # increment row if a tuple is added in the solutions list\n",
        "     colStart = 0 # to traverse the new row from 0th column"
      ],
      "metadata": {
        "id": "RX97EpNVEPUm"
      },
      "execution_count": 84,
      "outputs": []
    },
    {
      "cell_type": "markdown",
      "source": [
        "A main function where execution starts"
      ],
      "metadata": {
        "id": "ZvvvEAXIbmha"
      }
    },
    {
      "cell_type": "code",
      "source": [
        "def main():\n",
        "  global non_attacking_states,n\n",
        "  find_solutions() # to find all possible solutions\n",
        "  choice = random.choice(allPaths) # make a random selection to display a solution chess-board\n",
        "  print('A possible solution --> ',choice)\n",
        "  print_board(choice) # print the chess-board with the selected solution\n",
        "  print('Number of possible solutions : ',len(allPaths))\n",
        "  print('Number of non-attacking states : ',non_attacking_states)"
      ],
      "metadata": {
        "id": "F50ptB6RBTcZ"
      },
      "execution_count": 85,
      "outputs": []
    },
    {
      "cell_type": "markdown",
      "source": [
        "Calling the main function"
      ],
      "metadata": {
        "id": "P3WCo32VbrR-"
      }
    },
    {
      "cell_type": "code",
      "source": [
        "if __name__ == \"__main__\":\n",
        "    main()"
      ],
      "metadata": {
        "colab": {
          "base_uri": "https://localhost:8080/"
        },
        "id": "x_0NoZMMVuSs",
        "outputId": "2aa871e7-78a8-4578-a1f8-c8de5b20035c"
      },
      "execution_count": 86,
      "outputs": [
        {
          "output_type": "stream",
          "name": "stdout",
          "text": [
            "A possible solution -->  [(0, 0), (1, 6), (2, 3), (3, 5), (4, 8), (5, 1), (6, 9), (7, 4), (8, 2), (9, 7)]\n",
            "---------------------\n",
            "|Q| | | | | | | | | | \n",
            "---------------------\n",
            "| | | | | | |Q| | | | \n",
            "---------------------\n",
            "| | | |Q| | | | | | | \n",
            "---------------------\n",
            "| | | | | |Q| | | | | \n",
            "---------------------\n",
            "| | | | | | | | |Q| | \n",
            "---------------------\n",
            "| |Q| | | | | | | | | \n",
            "---------------------\n",
            "| | | | | | | | | |Q| \n",
            "---------------------\n",
            "| | | | |Q| | | | | | \n",
            "---------------------\n",
            "| | |Q| | | | | | | | \n",
            "---------------------\n",
            "| | | | | | | |Q| | | \n",
            "---------------------\n",
            "Number of possible solutions :  724\n",
            "Number of non-attacking states :  35538\n"
          ]
        }
      ]
    }
  ]
}